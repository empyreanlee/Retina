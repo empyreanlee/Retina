{
  "nbformat": 4,
  "nbformat_minor": 0,
  "metadata": {
    "colab": {
      "provenance": [],
      "authorship_tag": "ABX9TyOSowyYD+LjYsy3lKDYxjeO"
    },
    "kernelspec": {
      "name": "python3",
      "display_name": "Python 3"
    },
    "language_info": {
      "name": "python"
    }
  },
  "cells": [
    {
      "cell_type": "code",
      "source": [
        "!pip install pytorch_lightning\n",
        "import pytorch_lightning as pl\n",
        "pl.__version__"
      ],
      "metadata": {
        "colab": {
          "base_uri": "https://localhost:8080/",
          "height": 698
        },
        "collapsed": true,
        "id": "xjbm87nPhdsM",
        "outputId": "9c5be00d-755d-491e-e20d-954eac9f4023"
      },
      "execution_count": null,
      "outputs": [
        {
          "output_type": "stream",
          "name": "stdout",
          "text": [
            "Collecting pytorch_lightning\n",
            "  Downloading pytorch_lightning-2.4.0-py3-none-any.whl.metadata (21 kB)\n",
            "Requirement already satisfied: torch>=2.1.0 in /usr/local/lib/python3.10/dist-packages (from pytorch_lightning) (2.5.0+cu121)\n",
            "Requirement already satisfied: tqdm>=4.57.0 in /usr/local/lib/python3.10/dist-packages (from pytorch_lightning) (4.66.5)\n",
            "Requirement already satisfied: PyYAML>=5.4 in /usr/local/lib/python3.10/dist-packages (from pytorch_lightning) (6.0.2)\n",
            "Requirement already satisfied: fsspec>=2022.5.0 in /usr/local/lib/python3.10/dist-packages (from fsspec[http]>=2022.5.0->pytorch_lightning) (2024.6.1)\n",
            "Collecting torchmetrics>=0.7.0 (from pytorch_lightning)\n",
            "  Downloading torchmetrics-1.5.1-py3-none-any.whl.metadata (20 kB)\n",
            "Requirement already satisfied: packaging>=20.0 in /usr/local/lib/python3.10/dist-packages (from pytorch_lightning) (24.1)\n",
            "Requirement already satisfied: typing-extensions>=4.4.0 in /usr/local/lib/python3.10/dist-packages (from pytorch_lightning) (4.12.2)\n",
            "Collecting lightning-utilities>=0.10.0 (from pytorch_lightning)\n",
            "  Downloading lightning_utilities-0.11.8-py3-none-any.whl.metadata (5.2 kB)\n",
            "Requirement already satisfied: aiohttp!=4.0.0a0,!=4.0.0a1 in /usr/local/lib/python3.10/dist-packages (from fsspec[http]>=2022.5.0->pytorch_lightning) (3.10.10)\n",
            "Requirement already satisfied: setuptools in /usr/local/lib/python3.10/dist-packages (from lightning-utilities>=0.10.0->pytorch_lightning) (75.1.0)\n",
            "Requirement already satisfied: filelock in /usr/local/lib/python3.10/dist-packages (from torch>=2.1.0->pytorch_lightning) (3.16.1)\n",
            "Requirement already satisfied: networkx in /usr/local/lib/python3.10/dist-packages (from torch>=2.1.0->pytorch_lightning) (3.4.2)\n",
            "Requirement already satisfied: jinja2 in /usr/local/lib/python3.10/dist-packages (from torch>=2.1.0->pytorch_lightning) (3.1.4)\n",
            "Requirement already satisfied: sympy==1.13.1 in /usr/local/lib/python3.10/dist-packages (from torch>=2.1.0->pytorch_lightning) (1.13.1)\n",
            "Requirement already satisfied: mpmath<1.4,>=1.1.0 in /usr/local/lib/python3.10/dist-packages (from sympy==1.13.1->torch>=2.1.0->pytorch_lightning) (1.3.0)\n",
            "Requirement already satisfied: numpy<2.0,>1.20.0 in /usr/local/lib/python3.10/dist-packages (from torchmetrics>=0.7.0->pytorch_lightning) (1.26.4)\n",
            "Requirement already satisfied: aiohappyeyeballs>=2.3.0 in /usr/local/lib/python3.10/dist-packages (from aiohttp!=4.0.0a0,!=4.0.0a1->fsspec[http]>=2022.5.0->pytorch_lightning) (2.4.3)\n",
            "Requirement already satisfied: aiosignal>=1.1.2 in /usr/local/lib/python3.10/dist-packages (from aiohttp!=4.0.0a0,!=4.0.0a1->fsspec[http]>=2022.5.0->pytorch_lightning) (1.3.1)\n",
            "Requirement already satisfied: attrs>=17.3.0 in /usr/local/lib/python3.10/dist-packages (from aiohttp!=4.0.0a0,!=4.0.0a1->fsspec[http]>=2022.5.0->pytorch_lightning) (24.2.0)\n",
            "Requirement already satisfied: frozenlist>=1.1.1 in /usr/local/lib/python3.10/dist-packages (from aiohttp!=4.0.0a0,!=4.0.0a1->fsspec[http]>=2022.5.0->pytorch_lightning) (1.4.1)\n",
            "Requirement already satisfied: multidict<7.0,>=4.5 in /usr/local/lib/python3.10/dist-packages (from aiohttp!=4.0.0a0,!=4.0.0a1->fsspec[http]>=2022.5.0->pytorch_lightning) (6.1.0)\n",
            "Requirement already satisfied: yarl<2.0,>=1.12.0 in /usr/local/lib/python3.10/dist-packages (from aiohttp!=4.0.0a0,!=4.0.0a1->fsspec[http]>=2022.5.0->pytorch_lightning) (1.16.0)\n",
            "Requirement already satisfied: async-timeout<5.0,>=4.0 in /usr/local/lib/python3.10/dist-packages (from aiohttp!=4.0.0a0,!=4.0.0a1->fsspec[http]>=2022.5.0->pytorch_lightning) (4.0.3)\n",
            "Requirement already satisfied: MarkupSafe>=2.0 in /usr/local/lib/python3.10/dist-packages (from jinja2->torch>=2.1.0->pytorch_lightning) (3.0.2)\n",
            "Requirement already satisfied: idna>=2.0 in /usr/local/lib/python3.10/dist-packages (from yarl<2.0,>=1.12.0->aiohttp!=4.0.0a0,!=4.0.0a1->fsspec[http]>=2022.5.0->pytorch_lightning) (3.10)\n",
            "Requirement already satisfied: propcache>=0.2.0 in /usr/local/lib/python3.10/dist-packages (from yarl<2.0,>=1.12.0->aiohttp!=4.0.0a0,!=4.0.0a1->fsspec[http]>=2022.5.0->pytorch_lightning) (0.2.0)\n",
            "Downloading pytorch_lightning-2.4.0-py3-none-any.whl (815 kB)\n",
            "\u001b[2K   \u001b[90m━━━━━━━━━━━━━━━━━━━━━━━━━━━━━━━━━━━━━━━━\u001b[0m \u001b[32m815.2/815.2 kB\u001b[0m \u001b[31m13.0 MB/s\u001b[0m eta \u001b[36m0:00:00\u001b[0m\n",
            "\u001b[?25hDownloading lightning_utilities-0.11.8-py3-none-any.whl (26 kB)\n",
            "Downloading torchmetrics-1.5.1-py3-none-any.whl (890 kB)\n",
            "\u001b[2K   \u001b[90m━━━━━━━━━━━━━━━━━━━━━━━━━━━━━━━━━━━━━━━━\u001b[0m \u001b[32m890.6/890.6 kB\u001b[0m \u001b[31m40.0 MB/s\u001b[0m eta \u001b[36m0:00:00\u001b[0m\n",
            "\u001b[?25hInstalling collected packages: lightning-utilities, torchmetrics, pytorch_lightning\n",
            "Successfully installed lightning-utilities-0.11.8 pytorch_lightning-2.4.0 torchmetrics-1.5.1\n"
          ]
        },
        {
          "output_type": "execute_result",
          "data": {
            "text/plain": [
              "'2.4.0'"
            ],
            "application/vnd.google.colaboratory.intrinsic+json": {
              "type": "string"
            }
          },
          "metadata": {},
          "execution_count": 2
        }
      ]
    },
    {
      "cell_type": "code",
      "execution_count": null,
      "metadata": {
        "id": "SZAd-Y2D9arf"
      },
      "outputs": [],
      "source": [
        "import os\n",
        "import torch\n",
        "import torch.nn as nn\n",
        "import torch.optim as optim\n",
        "import torchvision\n",
        "from torchvision import transforms, models\n",
        "from torch.utils.data import DataLoader\n",
        "from torchvision.datasets import ImageFolder\n",
        "import pytorch_lightning as pl\n",
        "from pytorch_lightning.callbacks import ModelCheckpoint\n",
        "from sklearn.metrics import average_precision_score, roc_auc_score\n",
        "from torch.utils.data import DataLoader\n",
        "from PIL import Image\n",
        "from torch.utils.data import Dataset, DataLoader\n",
        "from sklearn.model_selection import train_test_split\n",
        "from tqdm import tqdm\n",
        "import glob"
      ]
    },
    {
      "cell_type": "code",
      "source": [
        "weights_url = \"https://download.pytorch.org/models/efficientnet_b0_rwightman-7f5810bc.pth\"\n",
        "!wget -nc {weights_url}"
      ],
      "metadata": {
        "colab": {
          "base_uri": "https://localhost:8080/"
        },
        "collapsed": true,
        "id": "_fhXSQYShssx",
        "outputId": "7ce9d7d8-9279-4ed9-c260-575d25ced6b5"
      },
      "execution_count": null,
      "outputs": [
        {
          "output_type": "stream",
          "name": "stdout",
          "text": [
            "--2024-10-24 12:37:24--  https://download.pytorch.org/models/efficientnet_b0_rwightman-7f5810bc.pth\n",
            "Resolving download.pytorch.org (download.pytorch.org)... 18.165.116.121, 18.165.116.36, 18.165.116.45, ...\n",
            "Connecting to download.pytorch.org (download.pytorch.org)|18.165.116.121|:443... connected.\n",
            "HTTP request sent, awaiting response... 200 OK\n",
            "Length: 21444401 (20M) [binary/octet-stream]\n",
            "Saving to: ‘efficientnet_b0_rwightman-7f5810bc.pth’\n",
            "\n",
            "efficientnet_b0_rwi 100%[===================>]  20.45M   108MB/s    in 0.2s    \n",
            "\n",
            "2024-10-24 12:37:24 (108 MB/s) - ‘efficientnet_b0_rwightman-7f5810bc.pth’ saved [21444401/21444401]\n",
            "\n"
          ]
        }
      ]
    },
    {
      "cell_type": "code",
      "source": [],
      "metadata": {
        "id": "h3ryTqgJGHtQ"
      },
      "execution_count": null,
      "outputs": []
    },
    {
      "cell_type": "markdown",
      "source": [
        "EfficientNet"
      ],
      "metadata": {
        "id": "toBxQ_LiGg_K"
      }
    },
    {
      "cell_type": "code",
      "source": [
        "class EfficientNetB0(nn.Module):\n",
        "  def __init__(self, list_of_classes, weights_path=None):\n",
        "    super(EfficientNetB0, self).__init__()\n",
        "    self.list_of_classes = list_of_classes\n",
        "    self.num_of_classes = len(list_of_classes)\n",
        "    self.model = self.load_efficientnet(weights_path)\n",
        "    self.model.classifier = nn.Sequential(\n",
        "        nn.Dropout(0.2, inplace=True),\n",
        "        nn.Linear(in_features=1280, out_features=self.num_classes, bias=True),\n",
        "        nn.Sigmoid\n",
        "    )\n",
        "  def foward(self, x):\n",
        "    x = self.model(x)\n",
        "    return x\n",
        "\n",
        "  def load_efficientnet(self,weights_path):\n",
        "    model = models.efficientnet_b0(weights=None)\n",
        "    if weights_path:\n",
        "      print(\"Loading weights\")\n",
        "      state_dict = torch.load(weights_path, weights_only=True)\n",
        "      model.load_state_dict(state_dict)\n",
        "    return model"
      ],
      "metadata": {
        "id": "3hS0rO2ChieZ"
      },
      "execution_count": null,
      "outputs": []
    },
    {
      "cell_type": "code",
      "source": [
        "epochs = 20\n",
        "labels = ['iscrowd', 'notcrowd']\n",
        "batch_size = 32\n",
        "efficientnet_weights_path = \"efficientnet_b0_rwightman-7f5810bc.pth\"\n",
        "scheduler_step = 7\n",
        "gamma = 0.1\n"
      ],
      "metadata": {
        "id": "IL-4vaUKt5TH"
      },
      "execution_count": null,
      "outputs": []
    },
    {
      "cell_type": "markdown",
      "source": [
        "Classifier"
      ],
      "metadata": {
        "id": "QJoYsgxWGdwq"
      }
    },
    {
      "cell_type": "code",
      "source": [
        "class Classifier(pl.LightningModule):\n",
        "  def __init__(self, list_of_labels, weights_path=None):\n",
        "    super(Classifier, self).__init__()\n",
        "    self.list_of_labels = list_of_labels\n",
        "    self.num_classes = len(list_of_labels)\n",
        "    self.model = EfficientNetB0(list_of_labels, efficientnet_weights_path)\n",
        "    self.model.classifier = nn.Sequential(\n",
        "        nn.Dropout(0.2, inplace=True),\n",
        "        nn.Linear(in_features=1280, out_features=self.num_classes, bias=True),\n",
        "        nn.Sigmoid\n",
        "    )\n",
        "\n",
        "    self.loss_fn = nn.BCELoss()\n",
        "\n",
        "  def foward(self, x):\n",
        "    return self.model(x)\n",
        "\n",
        "  def training_step(self, batch):\n",
        "    image, label = batch\n",
        "    image = image.float()\n",
        "    label = label.to(torch.float)\n",
        "    pred = self(image)\n",
        "    loss = self.loss_fn(pred, label)\n",
        "\n",
        "    self.log('train_loss', loss, prog_bar=True)\n",
        "\n",
        "    return loss\n",
        "\n",
        "  def validation_step(self, batch):\n",
        "    image, label = batch\n",
        "    image = image.float()\n",
        "    label = label.to(torch.float)\n",
        "    pred = self(image)\n",
        "    loss = self.loss_fn(pred, label)\n",
        "\n",
        "    self.log('val_loss', loss, prog_bar=True)\n",
        "\n",
        "    return loss\n",
        "\n",
        "  # def image_by_count(pred, threshold):\n",
        "  #   labels = []\n",
        "\n",
        "  #   for pred in pred:\n",
        "  #     num_objects = len(pred['boxes'])\n",
        "  #     if num_objects >= threshold:\n",
        "  #       labels.append(\"crowd\")\n",
        "  #     else:\n",
        "  #       labels.append(\"not_crowd\")\n",
        "  #   return labels\n",
        "\n",
        "\n",
        "  def conf_optim(self):\n",
        "    optimizer = optim.Adam(self.parameteters(), lr = 0.001)\n",
        "    scheduler = torch.optim.lr_scheduler.StepLR(optimizer, step_size= scheduler_step, gamma=gamma)\n",
        "    return [optimizer], [scheduler]"
      ],
      "metadata": {
        "id": "est5D1eCGfs3"
      },
      "execution_count": null,
      "outputs": []
    },
    {
      "cell_type": "code",
      "source": [
        "def Augmentations(data, batch_size, epochs):\n",
        "  transform = transform.Compose([\n",
        "      tranform.Resize((224,224)),\n",
        "      transfrom.ToTensor(),\n",
        "      transform.Normalize(mean=[0.485, 0.456, 0.406], std=[0.229, 0.224, 0.225]),\n",
        "  ])\n",
        "\n",
        "\n",
        "image_path = ''\n",
        "\n",
        "train_paths, val_paths = train_test_split(image_path, test_size=0.2, random_state=42)\n",
        "\n",
        "train_dataset =\n",
        "\n",
        "train_loader = DataLoader(train_dataset, batch_size=batch_size, shuffle=True)\n",
        "val_loader = DataLoader(val_dataset, batch_size=batch_size, shuffle=False)\n",
        "\n",
        "model = Classifier(labels, weights_path=efficientnet_weights_path)\n",
        "def train_model():\n",
        "\n",
        "\n",
        "\n"
      ],
      "metadata": {
        "id": "zbb7iEgqbb2E"
      },
      "execution_count": null,
      "outputs": []
    }
  ]
}